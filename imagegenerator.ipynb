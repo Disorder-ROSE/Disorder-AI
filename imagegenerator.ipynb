{
 "cells": [
  {
   "cell_type": "code",
   "execution_count": 1,
   "metadata": {},
   "outputs": [],
   "source": [
    "import cv2\n",
    "import numpy as np\n",
    "import os\n",
    "import random"
   ]
  },
  {
   "cell_type": "code",
   "execution_count": 15,
   "metadata": {},
   "outputs": [],
   "source": [
    "def shiftimg(imgpath, labelpath, name, shift_percent, num):\n",
    "    img = cv2.imread(imgpath + name[:-4]+ \".jpg\")\n",
    "    shift_x_percent = shift_percent\n",
    "    shift_y_percent = shift_percent\n",
    "\n",
    "    height, width = img.shape[1], img.shape[0]\n",
    "\n",
    "    shift_x = int(shift_x_percent * width)\n",
    "    shift_y = int(shift_y_percent * height)\n",
    "\n",
    "    M = np.float32([[1, 0, shift_x], [0, 1, shift_y]])\n",
    "    shifted_img = cv2.warpAffine(img, M, (width, height))\n",
    "\n",
    "    cv2.imwrite(imgpath + name[:-4] + \"_\" + str(num) + \".jpg\", shifted_img)\n",
    "    \n",
    "    with open(labelpath + name[:-4] + \".txt\", \"r\") as f:\n",
    "        label_lines = f.readlines()\n",
    "    \n",
    "    new_label_lines = []\n",
    "        \n",
    "    class_id, x_center, y_center, width, height = label_lines[0].strip().split()\n",
    "    x_ = float(x_center)\n",
    "    y_ = float(y_center)\n",
    "    x_ += shift_percent\n",
    "    y_ += shift_percent\n",
    "    \n",
    "    new_label_lines.append(f\"{class_id} {x_} {y_} {width} {height}\\n\")\n",
    "    \n",
    "    with open(labelpath + name[:-4] + \"_\" + str(num) + \".txt\", \"w\") as fs:\n",
    "        fs.writelines(new_label_lines)\n",
    "        \n",
    "    f.close()\n",
    "    fs.close()"
   ]
  },
  {
   "cell_type": "code",
   "execution_count": 19,
   "metadata": {},
   "outputs": [],
   "source": [
    "def make_rand():\n",
    "    start = -0.1\n",
    "    end = 0.1\n",
    "    random_num = random.uniform(start, end)\n",
    "    formatted_num = \"{:.2f}\".format(random_num)\n",
    "    return float(formatted_num)"
   ]
  },
  {
   "cell_type": "code",
   "execution_count": 37,
   "metadata": {},
   "outputs": [
    {
     "data": {
      "text/plain": [
       "0.08"
      ]
     },
     "execution_count": 37,
     "metadata": {},
     "output_type": "execute_result"
    }
   ],
   "source": [
    "make_rand()"
   ]
  },
  {
   "cell_type": "code",
   "execution_count": 40,
   "metadata": {},
   "outputs": [
    {
     "name": "stdout",
     "output_type": "stream",
     "text": [
      "['0', '1', '2', '3', '4', '5', '6', '7']\n"
     ]
    }
   ],
   "source": [
    "path = \"./Dataset/Dataset/valid/images\"\n",
    "flist = os.listdir(path)\n",
    "print(flist)"
   ]
  },
  {
   "cell_type": "code",
   "execution_count": 41,
   "metadata": {},
   "outputs": [
    {
     "name": "stdout",
     "output_type": "stream",
     "text": [
      "['10091_60_m_10.jpg', '10091_60_m_11.jpg', '10091_60_m_12.jpg', '10091_60_m_13.jpg', '10091_60_m_15.jpg', '10091_60_m_16.jpg', '10091_60_m_17.jpg', '10091_60_m_19.jpg', '10091_60_m_21.jpg', '10091_60_m_22.jpg', '10091_60_m_23.jpg', '10091_60_m_24.jpg', '10091_60_m_4.jpg', '10091_60_m_5.jpg', '10091_60_m_6.jpg', '10091_60_m_7.jpg', '10091_60_m_8.jpg', '10091_60_m_9.jpg', '10091_60_s_1.jpg', '10091_60_s_2.jpg', '10091_60_s_3.jpg', '10091_60_s_5.jpg']\n",
      "['10093_60_m_1.jpg', '10093_60_m_10.jpg', '10093_60_m_12.jpg', '10093_60_m_13.jpg', '10093_60_m_14.jpg', '10093_60_m_15.jpg', '10093_60_m_16.jpg', '10093_60_m_17.jpg', '10093_60_m_18.jpg', '10093_60_m_2.jpg', '10093_60_m_20.jpg', '10093_60_m_21.jpg', '10093_60_m_22.jpg', '10093_60_m_23.jpg', '10093_60_m_24.jpg', '10093_60_m_4.jpg', '10093_60_m_6.jpg', '10093_60_m_7.jpg', '10093_60_m_8.jpg', '10093_60_m_9.jpg', '10093_60_s_1.jpg', '10093_60_s_2.jpg']\n",
      "['10094_60_m_11.jpg', '10094_60_m_12.jpg', '10094_60_m_14.jpg', '10094_60_m_16.jpg', '10094_60_m_18.jpg', '10094_60_m_20.jpg', '10094_60_m_21.jpg', '10094_60_m_23.jpg', '10094_60_m_3.jpg', '10094_60_m_4.jpg', '10094_60_m_5.jpg', '10094_60_m_6.jpg', '10094_60_m_7.jpg', '10094_60_m_8.jpg', '10094_60_m_9.jpg', '10094_60_s_1.jpg', '10094_60_s_2.jpg', '10094_60_s_3.jpg', '10094_60_s_4.jpg', '10094_60_s_5.jpg', '10094_60_s_6.jpg', '10094_60_s_7.jpg']\n",
      "['10095_60_m_11.jpg', '10095_60_m_12.jpg', '10095_60_m_13.jpg', '10095_60_m_15.jpg', '10095_60_m_16.jpg', '10095_60_m_17.jpg', '10095_60_m_18.jpg', '10095_60_m_19.jpg', '10095_60_m_20.jpg', '10095_60_m_21.jpg', '10095_60_m_22.jpg', '10095_60_m_23.jpg', '10095_60_m_4.jpg', '10095_60_m_5.jpg', '10095_60_m_6.jpg', '10095_60_m_8.jpg', '10095_60_m_9.jpg', '10095_60_s_1.jpg', '10095_60_s_2.jpg', '10095_60_s_3.jpg', '10095_60_s_4.jpg', '10095_60_s_5.jpg']\n",
      "['10210_60_s_10.jpg', '10210_60_s_11.jpg', '10210_60_s_12.jpg', '10210_60_s_13.jpg', '10210_60_s_14.jpg', '10210_60_s_15.jpg', '10210_60_s_17.jpg', '10210_60_s_18.jpg', '10210_60_s_19.jpg', '10210_60_s_8.jpg', '10210_60_s_9.jpg']\n",
      "['20163_60_s_10.jpg', '20163_60_s_11.jpg', '20163_60_s_12.jpg', '20163_60_s_13.jpg', '20163_60_s_14.jpg', '20163_60_s_15.jpg', '20163_60_s_18.jpg', '20163_60_s_5.jpg', '20163_60_s_6.jpg', '20163_60_s_7.jpg', '20163_60_s_8.jpg']\n",
      "['20164_60_s_10.jpg', '20164_60_s_11.jpg', '20164_60_s_13.jpg', '20164_60_s_14.jpg', '20164_60_s_15.jpg', '20164_60_s_16.jpg', '20164_60_s_18.jpg', '20164_60_s_5.jpg', '20164_60_s_6.jpg', '20164_60_s_7.jpg', '20164_60_s_9.jpg']\n",
      "['25197_60_s_10.jpg', '25197_60_s_11.jpg', '25197_60_s_12.jpg', '25197_60_s_15.jpg', '25197_60_s_16.jpg', '25197_60_s_17.jpg', '25197_60_s_5.jpg', '25197_60_s_6.jpg', '25197_60_s_7.jpg', '25197_60_s_8.jpg', '25197_60_s_9.jpg']\n"
     ]
    }
   ],
   "source": [
    "for k in range(len(flist)):\n",
    "    imgpath = \"./Dataset/Dataset/valid/images/\" + flist[k] + \"/\"\n",
    "    labelpath = \"./Dataset/Dataset/valid/labels/\" + flist[k] + \"/\"\n",
    "    file_list = os.listdir(imgpath)\n",
    "    print(file_list)\n",
    "    for i in range(len(file_list)):\n",
    "        shiftimg(imgpath, labelpath, file_list[i], make_rand(), i)"
   ]
  },
  {
   "cell_type": "code",
   "execution_count": null,
   "metadata": {},
   "outputs": [],
   "source": []
  }
 ],
 "metadata": {
  "kernelspec": {
   "display_name": "Python 3",
   "language": "python",
   "name": "python3"
  },
  "language_info": {
   "codemirror_mode": {
    "name": "ipython",
    "version": 3
   },
   "file_extension": ".py",
   "mimetype": "text/x-python",
   "name": "python",
   "nbconvert_exporter": "python",
   "pygments_lexer": "ipython3",
   "version": "3.8.5"
  }
 },
 "nbformat": 4,
 "nbformat_minor": 4
}
