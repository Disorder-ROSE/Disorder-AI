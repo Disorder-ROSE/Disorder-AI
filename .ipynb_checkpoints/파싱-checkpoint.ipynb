{
 "cells": [
  {
   "cell_type": "code",
   "execution_count": 1,
   "metadata": {},
   "outputs": [],
   "source": [
    "import os\n",
    "import json\n",
    "import shutil\n",
    "from PIL import Image"
   ]
  },
  {
   "cell_type": "code",
   "execution_count": 7,
   "metadata": {},
   "outputs": [],
   "source": [
    "def fileCountandSplit():\n",
    "    metarawpath = './Dataset/라벨링데이터'\n",
    "    imgrawpath = './Dataset/원천데이터'\n",
    "\n",
    "    metapath = './Dataset/meta'\n",
    "    imgpath = './Dataset/img'\n",
    "\n",
    "    filelist = os.listdir(metarawpath)\n",
    "    filecount = 0\n",
    "    mancount = 0\n",
    "    womancount = 0\n",
    "\n",
    "    for filepack in filelist:\n",
    "        print(filepack)\n",
    "        remetapath = metarawpath + '/' + filepack\n",
    "        reimgpath = imgrawpath + '/' + filepack\n",
    "        filecount += len(os.listdir(remetapath))\n",
    "        print('파일 수 : ', len(os.listdir(remetapath)))\n",
    "        files = os.listdir(remetapath)\n",
    "        for file in files:\n",
    "            json_file = open(remetapath + '/' + file, encoding=\"UTF8\")\n",
    "            data = json.load(json_file)\n",
    "\n",
    "    print('파일 수 : ', filecount)"
   ]
  },
  {
   "cell_type": "code",
   "execution_count": 11,
   "metadata": {},
   "outputs": [],
   "source": [
    "import xml.etree.ElementTree as ET\n",
    "tree = ET.parse('./Dataset/라벨링데이터/10000_test/10091_0_m_1_meta.xml')\n",
    "root = tree.getroot()"
   ]
  },
  {
   "cell_type": "code",
   "execution_count": 12,
   "metadata": {},
   "outputs": [
    {
     "data": {
      "text/plain": [
       "<Element 'comp_cd' at 0x0000019B9098CCC0>"
      ]
     },
     "execution_count": 12,
     "metadata": {},
     "output_type": "execute_result"
    }
   ],
   "source": [
    "root"
   ]
  },
  {
   "cell_type": "code",
   "execution_count": 13,
   "metadata": {},
   "outputs": [
    {
     "data": {
      "text/plain": [
       "'comp_cd'"
      ]
     },
     "execution_count": 13,
     "metadata": {},
     "output_type": "execute_result"
    }
   ],
   "source": [
    "root.tag"
   ]
  },
  {
   "cell_type": "code",
   "execution_count": 14,
   "metadata": {},
   "outputs": [
    {
     "data": {
      "text/plain": [
       "{}"
      ]
     },
     "execution_count": 14,
     "metadata": {},
     "output_type": "execute_result"
    }
   ],
   "source": [
    "root.attrib"
   ]
  },
  {
   "cell_type": "code",
   "execution_count": 15,
   "metadata": {},
   "outputs": [
    {
     "name": "stdout",
     "output_type": "stream",
     "text": [
      "identifier {}\n",
      "div_cd {}\n",
      "annotation {}\n"
     ]
    }
   ],
   "source": [
    "for child in root:\n",
    "     print(child.tag, child.attrib)"
   ]
  },
  {
   "cell_type": "code",
   "execution_count": 37,
   "metadata": {},
   "outputs": [
    {
     "data": {
      "text/plain": [
       "(2988, 2988, 3)"
      ]
     },
     "execution_count": 37,
     "metadata": {},
     "output_type": "execute_result"
    }
   ],
   "source": [
    "sizew = int(root[2][4][0].text)\n",
    "sizeh = int(root[2][4][1].text)\n",
    "cnt = int(root[2][4][2].text)\n",
    "sizew, sizeh, cnt"
   ]
  },
  {
   "cell_type": "code",
   "execution_count": 41,
   "metadata": {},
   "outputs": [
    {
     "data": {
      "text/plain": [
       "(357, 1497, 785, 2225)"
      ]
     },
     "execution_count": 41,
     "metadata": {},
     "output_type": "execute_result"
    }
   ],
   "source": [
    "xmin = int(root[2][6][4][0].text)\n",
    "ymin = int(root[2][6][4][1].text)\n",
    "xmax = int(root[2][6][4][2].text)\n",
    "ymax = int(root[2][6][4][3].text)\n",
    "xmin, xmax, ymin, ymax"
   ]
  },
  {
   "cell_type": "code",
   "execution_count": 42,
   "metadata": {},
   "outputs": [
    {
     "data": {
      "text/plain": [
       "(0.3102409638554217, 0.5036813922356091)"
      ]
     },
     "execution_count": 42,
     "metadata": {},
     "output_type": "execute_result"
    }
   ],
   "source": [
    "xcen = (xmin+xmax) / 2 / sizew\n",
    "ycen = (ymin+ymax) / 2 / sizeh\n",
    "xcen, ycen"
   ]
  },
  {
   "cell_type": "code",
   "execution_count": 43,
   "metadata": {},
   "outputs": [
    {
     "data": {
      "text/plain": [
       "(0.3815261044176707, 0.4819277108433735)"
      ]
     },
     "execution_count": 43,
     "metadata": {},
     "output_type": "execute_result"
    }
   ],
   "source": [
    "w = (xmax-xmin) / sizew\n",
    "h = (ymax-ymin) / sizeh\n",
    "w, h"
   ]
  },
  {
   "cell_type": "code",
   "execution_count": 48,
   "metadata": {},
   "outputs": [
    {
     "data": {
      "text/plain": [
       "'0 0.3102409638554217 0.5036813922356091 0.3815261044176707 0.4819277108433735'"
      ]
     },
     "execution_count": 48,
     "metadata": {},
     "output_type": "execute_result"
    }
   ],
   "source": [
    "line = '0', ' ', str(xcen), ' ', str(ycen), ' ', str(w), ' ', str(h)\n",
    "''.join(line)"
   ]
  },
  {
   "cell_type": "code",
   "execution_count": null,
   "metadata": {},
   "outputs": [],
   "source": []
  }
 ],
 "metadata": {
  "kernelspec": {
   "display_name": "Python 3",
   "language": "python",
   "name": "python3"
  },
  "language_info": {
   "codemirror_mode": {
    "name": "ipython",
    "version": 3
   },
   "file_extension": ".py",
   "mimetype": "text/x-python",
   "name": "python",
   "nbconvert_exporter": "python",
   "pygments_lexer": "ipython3",
   "version": "3.8.5"
  }
 },
 "nbformat": 4,
 "nbformat_minor": 4
}
