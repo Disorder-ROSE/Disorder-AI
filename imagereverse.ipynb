{
 "cells": [
  {
   "cell_type": "code",
   "execution_count": 1,
   "metadata": {},
   "outputs": [],
   "source": [
    "import cv2\n",
    "import numpy as np\n",
    "import os\n",
    "import random"
   ]
  },
  {
   "cell_type": "code",
   "execution_count": 14,
   "metadata": {},
   "outputs": [],
   "source": [
    "def reverseimg(imgpath, labelpath, name, num):\n",
    "    num_ = 100 - num\n",
    "    img = cv2.imread(imgpath + name[:-4]+ \".jpg\")\n",
    "    height, width, _ = img.shape\n",
    "    flipped = cv2.flip(img, 1)\n",
    "\n",
    "    cv2.imwrite(imgpath + name[:-4] + \"_\" + str(num_) + \".jpg\", flipped)\n",
    "    \n",
    "    with open(labelpath + name[:-4] + \".txt\", \"r\") as f:\n",
    "        label_lines = f.readlines()\n",
    "    \n",
    "    new_label_lines = []\n",
    "        \n",
    "    class_id, x_center, y_center, box_width, box_height = label_lines[0].strip().split()\n",
    "    \n",
    "    x = float(x_center)\n",
    "    x_ = 1 - x\n",
    "    \n",
    "    new_label_lines.append(f\"{class_id} {x_} {y_center} {box_width} {box_height}\\n\")\n",
    "    \n",
    "    with open(labelpath + name[:-4] + \"_\" + str(num_) + \".txt\", \"w\") as fs:\n",
    "        fs.writelines(new_label_lines)\n",
    "        \n",
    "    f.close()\n",
    "    fs.close()"
   ]
  },
  {
   "cell_type": "code",
   "execution_count": 20,
   "metadata": {},
   "outputs": [
    {
     "name": "stdout",
     "output_type": "stream",
     "text": [
      "['0', '1', '2', '3', '4', '5', '6', '7']\n"
     ]
    }
   ],
   "source": [
    "path = \"./Dataset/Dataset/valid/images\"\n",
    "flist = os.listdir(path)\n",
    "print(flist)"
   ]
  },
  {
   "cell_type": "code",
   "execution_count": 21,
   "metadata": {},
   "outputs": [
    {
     "name": "stdout",
     "output_type": "stream",
     "text": [
      "['10091_60_m_10.jpg', '10091_60_m_10_0.jpg', '10091_60_m_11.jpg', '10091_60_m_11_1.jpg', '10091_60_m_12.jpg', '10091_60_m_12_2.jpg', '10091_60_m_13.jpg', '10091_60_m_13_3.jpg', '10091_60_m_15.jpg', '10091_60_m_15_4.jpg', '10091_60_m_16.jpg', '10091_60_m_16_5.jpg', '10091_60_m_17.jpg', '10091_60_m_17_6.jpg', '10091_60_m_19.jpg', '10091_60_m_19_7.jpg', '10091_60_m_21.jpg', '10091_60_m_21_8.jpg', '10091_60_m_22.jpg', '10091_60_m_22_9.jpg', '10091_60_m_23.jpg', '10091_60_m_23_10.jpg', '10091_60_m_24.jpg', '10091_60_m_24_11.jpg', '10091_60_m_4.jpg', '10091_60_m_4_12.jpg', '10091_60_m_5.jpg', '10091_60_m_5_13.jpg', '10091_60_m_6.jpg', '10091_60_m_6_14.jpg', '10091_60_m_7.jpg', '10091_60_m_7_15.jpg', '10091_60_m_8.jpg', '10091_60_m_8_16.jpg', '10091_60_m_9.jpg', '10091_60_m_9_17.jpg', '10091_60_s_1.jpg', '10091_60_s_1_18.jpg', '10091_60_s_2.jpg', '10091_60_s_2_19.jpg', '10091_60_s_3.jpg', '10091_60_s_3_20.jpg', '10091_60_s_5.jpg', '10091_60_s_5_21.jpg']\n",
      "['10093_60_m_1.jpg', '10093_60_m_10.jpg', '10093_60_m_10_1.jpg', '10093_60_m_12.jpg', '10093_60_m_12_2.jpg', '10093_60_m_13.jpg', '10093_60_m_13_3.jpg', '10093_60_m_14.jpg', '10093_60_m_14_4.jpg', '10093_60_m_15.jpg', '10093_60_m_15_5.jpg', '10093_60_m_16.jpg', '10093_60_m_16_6.jpg', '10093_60_m_17.jpg', '10093_60_m_17_7.jpg', '10093_60_m_18.jpg', '10093_60_m_18_8.jpg', '10093_60_m_1_0.jpg', '10093_60_m_2.jpg', '10093_60_m_20.jpg', '10093_60_m_20_10.jpg', '10093_60_m_21.jpg', '10093_60_m_21_11.jpg', '10093_60_m_22.jpg', '10093_60_m_22_12.jpg', '10093_60_m_23.jpg', '10093_60_m_23_13.jpg', '10093_60_m_24.jpg', '10093_60_m_24_14.jpg', '10093_60_m_2_9.jpg', '10093_60_m_4.jpg', '10093_60_m_4_15.jpg', '10093_60_m_6.jpg', '10093_60_m_6_16.jpg', '10093_60_m_7.jpg', '10093_60_m_7_17.jpg', '10093_60_m_8.jpg', '10093_60_m_8_18.jpg', '10093_60_m_9.jpg', '10093_60_m_9_19.jpg', '10093_60_s_1.jpg', '10093_60_s_1_20.jpg', '10093_60_s_2.jpg', '10093_60_s_2_21.jpg']\n",
      "['10094_60_m_11.jpg', '10094_60_m_11_0.jpg', '10094_60_m_12.jpg', '10094_60_m_12_1.jpg', '10094_60_m_14.jpg', '10094_60_m_14_2.jpg', '10094_60_m_16.jpg', '10094_60_m_16_3.jpg', '10094_60_m_18.jpg', '10094_60_m_18_4.jpg', '10094_60_m_20.jpg', '10094_60_m_20_5.jpg', '10094_60_m_21.jpg', '10094_60_m_21_6.jpg', '10094_60_m_23.jpg', '10094_60_m_23_7.jpg', '10094_60_m_3.jpg', '10094_60_m_3_8.jpg', '10094_60_m_4.jpg', '10094_60_m_4_9.jpg', '10094_60_m_5.jpg', '10094_60_m_5_10.jpg', '10094_60_m_6.jpg', '10094_60_m_6_11.jpg', '10094_60_m_7.jpg', '10094_60_m_7_12.jpg', '10094_60_m_8.jpg', '10094_60_m_8_13.jpg', '10094_60_m_9.jpg', '10094_60_m_9_14.jpg', '10094_60_s_1.jpg', '10094_60_s_1_15.jpg', '10094_60_s_2.jpg', '10094_60_s_2_16.jpg', '10094_60_s_3.jpg', '10094_60_s_3_17.jpg', '10094_60_s_4.jpg', '10094_60_s_4_18.jpg', '10094_60_s_5.jpg', '10094_60_s_5_19.jpg', '10094_60_s_6.jpg', '10094_60_s_6_20.jpg', '10094_60_s_7.jpg', '10094_60_s_7_21.jpg']\n",
      "['10095_60_m_11.jpg', '10095_60_m_11_0.jpg', '10095_60_m_12.jpg', '10095_60_m_12_1.jpg', '10095_60_m_13.jpg', '10095_60_m_13_2.jpg', '10095_60_m_15.jpg', '10095_60_m_15_3.jpg', '10095_60_m_16.jpg', '10095_60_m_16_4.jpg', '10095_60_m_17.jpg', '10095_60_m_17_5.jpg', '10095_60_m_18.jpg', '10095_60_m_18_6.jpg', '10095_60_m_19.jpg', '10095_60_m_19_7.jpg', '10095_60_m_20.jpg', '10095_60_m_20_8.jpg', '10095_60_m_21.jpg', '10095_60_m_21_9.jpg', '10095_60_m_22.jpg', '10095_60_m_22_10.jpg', '10095_60_m_23.jpg', '10095_60_m_23_11.jpg', '10095_60_m_4.jpg', '10095_60_m_4_12.jpg', '10095_60_m_5.jpg', '10095_60_m_5_13.jpg', '10095_60_m_6.jpg', '10095_60_m_6_14.jpg', '10095_60_m_8.jpg', '10095_60_m_8_15.jpg', '10095_60_m_9.jpg', '10095_60_m_9_16.jpg', '10095_60_s_1.jpg', '10095_60_s_1_17.jpg', '10095_60_s_2.jpg', '10095_60_s_2_18.jpg', '10095_60_s_3.jpg', '10095_60_s_3_19.jpg', '10095_60_s_4.jpg', '10095_60_s_4_20.jpg', '10095_60_s_5.jpg', '10095_60_s_5_21.jpg']\n",
      "['10210_60_s_10.jpg', '10210_60_s_10_0.jpg', '10210_60_s_11.jpg', '10210_60_s_11_1.jpg', '10210_60_s_12.jpg', '10210_60_s_12_2.jpg', '10210_60_s_13.jpg', '10210_60_s_13_3.jpg', '10210_60_s_14.jpg', '10210_60_s_14_4.jpg', '10210_60_s_15.jpg', '10210_60_s_15_5.jpg', '10210_60_s_17.jpg', '10210_60_s_17_6.jpg', '10210_60_s_18.jpg', '10210_60_s_18_7.jpg', '10210_60_s_19.jpg', '10210_60_s_19_8.jpg', '10210_60_s_8.jpg', '10210_60_s_8_9.jpg', '10210_60_s_9.jpg', '10210_60_s_9_10.jpg']\n",
      "['20163_60_s_10.jpg', '20163_60_s_10_0.jpg', '20163_60_s_11.jpg', '20163_60_s_11_1.jpg', '20163_60_s_12.jpg', '20163_60_s_12_2.jpg', '20163_60_s_13.jpg', '20163_60_s_13_3.jpg', '20163_60_s_14.jpg', '20163_60_s_14_4.jpg', '20163_60_s_15.jpg', '20163_60_s_15_5.jpg', '20163_60_s_18.jpg', '20163_60_s_18_6.jpg', '20163_60_s_5.jpg', '20163_60_s_5_7.jpg', '20163_60_s_6.jpg', '20163_60_s_6_8.jpg', '20163_60_s_7.jpg', '20163_60_s_7_9.jpg', '20163_60_s_8.jpg', '20163_60_s_8_10.jpg']\n",
      "['20164_60_s_10.jpg', '20164_60_s_10_0.jpg', '20164_60_s_11.jpg', '20164_60_s_11_1.jpg', '20164_60_s_13.jpg', '20164_60_s_13_2.jpg', '20164_60_s_14.jpg', '20164_60_s_14_3.jpg', '20164_60_s_15.jpg', '20164_60_s_15_4.jpg', '20164_60_s_16.jpg', '20164_60_s_16_5.jpg', '20164_60_s_18.jpg', '20164_60_s_18_6.jpg', '20164_60_s_5.jpg', '20164_60_s_5_7.jpg', '20164_60_s_6.jpg', '20164_60_s_6_8.jpg', '20164_60_s_7.jpg', '20164_60_s_7_9.jpg', '20164_60_s_9.jpg', '20164_60_s_9_10.jpg']\n",
      "['25197_60_s_10.jpg', '25197_60_s_10_0.jpg', '25197_60_s_11.jpg', '25197_60_s_11_1.jpg', '25197_60_s_12.jpg', '25197_60_s_12_2.jpg', '25197_60_s_15.jpg', '25197_60_s_15_3.jpg', '25197_60_s_16.jpg', '25197_60_s_16_4.jpg', '25197_60_s_17.jpg', '25197_60_s_17_5.jpg', '25197_60_s_5.jpg', '25197_60_s_5_6.jpg', '25197_60_s_6.jpg', '25197_60_s_6_7.jpg', '25197_60_s_7.jpg', '25197_60_s_7_8.jpg', '25197_60_s_8.jpg', '25197_60_s_8_9.jpg', '25197_60_s_9.jpg', '25197_60_s_9_10.jpg']\n"
     ]
    }
   ],
   "source": [
    "for k in range(len(flist)):\n",
    "    imgpath = \"./Dataset/Dataset/valid/images/\" + flist[k] + \"/\"\n",
    "    labelpath = \"./Dataset/Dataset/valid/labels/\" + flist[k] + \"/\"\n",
    "    file_list = os.listdir(imgpath)\n",
    "    print(file_list)\n",
    "    for i in range(len(file_list)):\n",
    "        reverseimg(imgpath, labelpath, file_list[i], i)"
   ]
  },
  {
   "cell_type": "code",
   "execution_count": null,
   "metadata": {},
   "outputs": [],
   "source": []
  }
 ],
 "metadata": {
  "kernelspec": {
   "display_name": "Python 3",
   "language": "python",
   "name": "python3"
  },
  "language_info": {
   "codemirror_mode": {
    "name": "ipython",
    "version": 3
   },
   "file_extension": ".py",
   "mimetype": "text/x-python",
   "name": "python",
   "nbconvert_exporter": "python",
   "pygments_lexer": "ipython3",
   "version": "3.8.5"
  }
 },
 "nbformat": 4,
 "nbformat_minor": 4
}
