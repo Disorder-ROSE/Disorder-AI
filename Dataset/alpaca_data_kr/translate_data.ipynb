{
 "cells": [
  {
   "cell_type": "code",
   "execution_count": null,
   "id": "ec8b6d9c",
   "metadata": {},
   "outputs": [],
   "source": [
    "#pip install googletrans==4.0.0-rc1"
   ]
  },
  {
   "cell_type": "code",
   "execution_count": 16,
   "id": "388c4c77",
   "metadata": {
    "ExecuteTime": {
     "end_time": "2023-03-17T06:06:14.574294Z",
     "start_time": "2023-03-17T06:06:14.273879Z"
    }
   },
   "outputs": [],
   "source": [
    "from googletrans import Translator\n",
    "import json\n",
    "import time\n",
    "import numpy as np\n",
    "import glob"
   ]
  },
  {
   "cell_type": "markdown",
   "id": "7550a810",
   "metadata": {},
   "source": [
    "# 번역하는 함수"
   ]
  },
  {
   "cell_type": "code",
   "execution_count": null,
   "id": "848b2287",
   "metadata": {},
   "outputs": [],
   "source": [
    "def trans(eng_txt):\n",
    "    _ = translator.translate(eng_txt, src='en', dest='ko').text\n",
    "    return _"
   ]
  },
  {
   "cell_type": "markdown",
   "id": "23565153",
   "metadata": {},
   "source": [
    "# json내에 각 요소별 key값을 읽어 번역"
   ]
  },
  {
   "cell_type": "code",
   "execution_count": null,
   "id": "a3f05b9b",
   "metadata": {},
   "outputs": [],
   "source": [
    "def each_trans(x):\n",
    "    tmp_dict = {}\n",
    "    if x['instruction']:\n",
    "        tmp_dict['instruction'] = trans(x['instruction'])\n",
    "    else:\n",
    "        tmp_dict['instruction'] = ''\n",
    "\n",
    "#     time.sleep(0.5)\n",
    "\n",
    "    if x['input']:\n",
    "        tmp_dict['input'] = trans(x['input'])\n",
    "    else:\n",
    "        tmp_dict['input'] = ''\n",
    "\n",
    "#     time.sleep(0.5)\n",
    "\n",
    "    if x['output']:\n",
    "        tmp_dict['output'] = trans(x['output'])\n",
    "    else:\n",
    "        tmp_dict['output'] = ''\n",
    "\n",
    "    return tmp_dict"
   ]
  },
  {
   "cell_type": "markdown",
   "id": "39de3dce",
   "metadata": {},
   "source": [
    "# 데이터 분할"
   ]
  },
  {
   "cell_type": "code",
   "execution_count": null,
   "id": "45bbccd4",
   "metadata": {},
   "outputs": [],
   "source": [
    "# 편의상 원본 데이터 분할하여 작업 진행"
   ]
  },
  {
   "cell_type": "code",
   "execution_count": null,
   "id": "5aeb3975",
   "metadata": {},
   "outputs": [],
   "source": [
    "with open(\"../alpaca_data.json\", \"r\") as st_json:\n",
    "    alpaca_data = json.load(st_json)"
   ]
  },
  {
   "cell_type": "code",
   "execution_count": null,
   "id": "89983112",
   "metadata": {},
   "outputs": [],
   "source": [
    "alapaca_data1 = alpaca_data[:10000]\n",
    "alapaca_data2 = alpaca_data[10000:20000]\n",
    "alapaca_data3 = alpaca_data[20000:30000]\n",
    "alapaca_data4 = alpaca_data[30000:40000]\n",
    "alapaca_data5 = alpaca_data[40000:]"
   ]
  },
  {
   "cell_type": "code",
   "execution_count": null,
   "id": "feca7613",
   "metadata": {},
   "outputs": [],
   "source": [
    "# !mkdir data"
   ]
  },
  {
   "cell_type": "code",
   "execution_count": null,
   "id": "c1154663",
   "metadata": {},
   "outputs": [],
   "source": [
    "with open('./data/alpaca_data_1.json', 'w') as f:\n",
    "    json.dump(alapaca_data1, f)\n",
    "with open('./data/alpaca_data_2.json', 'w') as f:\n",
    "    json.dump(alapaca_data2, f)\n",
    "with open('./data/alpaca_data_3.json', 'w') as f:\n",
    "    json.dump(alapaca_data3, f)\n",
    "with open('./data/alpaca_data_4.json', 'w') as f:\n",
    "    json.dump(alapaca_data4, f)\n",
    "with open('./data/alpaca_data_5.json', 'w') as f:\n",
    "    json.dump(alapaca_data5, f)"
   ]
  },
  {
   "cell_type": "code",
   "execution_count": null,
   "id": "e646a6d5",
   "metadata": {},
   "outputs": [],
   "source": [
    "ls_json = glob.glob('./data/*')\n",
    "ls_json"
   ]
  },
  {
   "cell_type": "markdown",
   "id": "54f0e898",
   "metadata": {},
   "source": [
    "# 실행"
   ]
  },
  {
   "cell_type": "code",
   "execution_count": null,
   "id": "50c30e20",
   "metadata": {},
   "outputs": [],
   "source": [
    "# 분할된 파일을 읽어서 json 파일> dict > key 로 하나씩 읽어서 번역 후 저장\n",
    "# 실행 중간중간에 에러가 발생함\n",
    "# 번역 패키지가 api를 호출하는 형태이고 너무 많은 request나 다른 문제로 인해\n",
    "# 에러 발생 후 끊어지는 경우가 많아 이를 대처하기 위해 \n",
    "# 끊어진 후에도 자동으로 작업을 이어나갈 수 있게 작성\n",
    "# 실제 작업은 5개로 나눈 Json 파일 전체를 아래 셀 하나로 작업하지 않고 \n",
    "# 2개 클라우드 서버, 개인pc에서 분할된 json파일을 나눠서 진행 함"
   ]
  },
  {
   "cell_type": "code",
   "execution_count": null,
   "id": "8ea2e010",
   "metadata": {
    "scrolled": true
   },
   "outputs": [],
   "source": [
    "for path_json in ls_json:\n",
    "    with open(path_json, \"r\") as st_json:\n",
    "        alpaca_data = json.load(st_json)\n",
    "\n",
    "    tmp_ls = []\n",
    "    check = 1\n",
    "\n",
    "    while check:\n",
    "        try:\n",
    "            time.sleep(np.random.randint(5, 10))\n",
    "            translator = Translator()\n",
    "\n",
    "            for i in alpaca_data[len(tmp_ls):]:\n",
    "                each_dict = each_trans(i)\n",
    "                tmp_ls.append(each_dict)\n",
    "                cnt = len(tmp_ls)\n",
    "                print(cnt)\n",
    "\n",
    "        except:\n",
    "            print('error, restart now')\n",
    "            pass\n",
    "\n",
    "        if len(alpaca_data) == len(tmp_ls):\n",
    "            with open(f\"{path_json.replace('.json', '_kr')}.json\", 'w') as f:\n",
    "                json.dump(tmp_ls, f)\n",
    "                check = 0"
   ]
  },
  {
   "cell_type": "markdown",
   "id": "e93a875f",
   "metadata": {},
   "source": [
    "# 병합"
   ]
  },
  {
   "cell_type": "code",
   "execution_count": 19,
   "id": "68a366b2",
   "metadata": {
    "ExecuteTime": {
     "end_time": "2023-03-17T06:17:15.334096Z",
     "start_time": "2023-03-17T06:17:14.500341Z"
    }
   },
   "outputs": [],
   "source": [
    "with open('./data/alpaca_data_1_kr.json', 'r') as f:\n",
    "    alpaca_data_1_kr = json.load(f)\n",
    "with open('./data/alpaca_data_2_kr.json', 'r') as f:\n",
    "    alpaca_data_2_kr = json.load(f)\n",
    "with open('./data/alpaca_data_3_kr.json', 'r') as f:\n",
    "    alpaca_data_3_kr = json.load(f)\n",
    "with open('./data/alpaca_data_4_kr.json', 'r') as f:\n",
    "    alpaca_data_4_kr = json.load(f)\n",
    "with open('./data/alpaca_data_5_kr.json', 'r') as f:\n",
    "    alpaca_data_5_kr = json.load(f)"
   ]
  },
  {
   "cell_type": "code",
   "execution_count": 26,
   "id": "7a5dfb53",
   "metadata": {
    "ExecuteTime": {
     "end_time": "2023-03-17T06:18:23.688965Z",
     "start_time": "2023-03-17T06:18:23.654123Z"
    }
   },
   "outputs": [
    {
     "data": {
      "text/plain": [
       "52002"
      ]
     },
     "execution_count": 26,
     "metadata": {},
     "output_type": "execute_result"
    }
   ],
   "source": [
    "len(alpaca_data_1_kr + alpaca_data_2_kr + alpaca_data_3_kr\n",
    "    + alpaca_data_4_kr + alpaca_data_5_kr)"
   ]
  },
  {
   "cell_type": "code",
   "execution_count": 27,
   "id": "04d41194",
   "metadata": {
    "ExecuteTime": {
     "end_time": "2023-03-17T06:19:07.455358Z",
     "start_time": "2023-03-17T06:19:07.430575Z"
    }
   },
   "outputs": [],
   "source": [
    "alpaca_data_kr = alpaca_data_1_kr + alpaca_data_2_kr + alpaca_data_3_kr \\\n",
    "                + alpaca_data_4_kr + alpaca_data_5_kr"
   ]
  },
  {
   "cell_type": "code",
   "execution_count": 29,
   "id": "2ed491b8",
   "metadata": {
    "ExecuteTime": {
     "end_time": "2023-03-17T06:19:23.384501Z",
     "start_time": "2023-03-17T06:19:23.370609Z"
    }
   },
   "outputs": [
    {
     "data": {
      "text/plain": [
       "52002"
      ]
     },
     "execution_count": 29,
     "metadata": {},
     "output_type": "execute_result"
    }
   ],
   "source": [
    "len(alpaca_data_kr)"
   ]
  },
  {
   "cell_type": "code",
   "execution_count": 30,
   "id": "339e3b0b",
   "metadata": {
    "ExecuteTime": {
     "end_time": "2023-03-17T06:20:09.080598Z",
     "start_time": "2023-03-17T06:20:08.246768Z"
    }
   },
   "outputs": [],
   "source": [
    "with open('./data/alpaca_data_kr.json', 'w') as f:\n",
    "    json.dump(alpaca_data_kr, f)"
   ]
  },
  {
   "cell_type": "markdown",
   "id": "10fe0505",
   "metadata": {},
   "source": [
    "# 확인"
   ]
  },
  {
   "cell_type": "code",
   "execution_count": 31,
   "id": "3615ac1e",
   "metadata": {
    "ExecuteTime": {
     "end_time": "2023-03-17T06:20:32.600068Z",
     "start_time": "2023-03-17T06:20:31.556898Z"
    }
   },
   "outputs": [],
   "source": [
    "with open('./data/alpaca_data_kr.json', 'r') as f:\n",
    "    alpaca_data_kr_ = json.load(f)"
   ]
  },
  {
   "cell_type": "code",
   "execution_count": 33,
   "id": "711dd420",
   "metadata": {
    "ExecuteTime": {
     "end_time": "2023-03-17T06:20:46.980380Z",
     "start_time": "2023-03-17T06:20:46.968917Z"
    }
   },
   "outputs": [
    {
     "data": {
      "text/plain": [
       "52002"
      ]
     },
     "execution_count": 33,
     "metadata": {},
     "output_type": "execute_result"
    }
   ],
   "source": [
    "len(alpaca_data_kr_)"
   ]
  },
  {
   "cell_type": "code",
   "execution_count": 32,
   "id": "7e3898e7",
   "metadata": {
    "ExecuteTime": {
     "end_time": "2023-03-17T06:20:38.044821Z",
     "start_time": "2023-03-17T06:20:38.027364Z"
    }
   },
   "outputs": [
    {
     "data": {
      "text/plain": [
       "[{'instruction': '두 값을 보유한 컨테이너 클래스를 만듭니다.',\n",
       "  'input': '',\n",
       "  'output': '클래스 컨테이너 {\\n  개인 문자열 value1;\\n  개인 문자열 value2;\\n  \\n  공개 컨테이너 (String value1, String value2) {\\n    this.value1 = value1;\\n    this.value2 = value2;\\n  }\\n  \\n  공개 문자열 getValue1 () {\\n    반환 값 1;\\n  }\\n  \\n  공개 문자열 getValue2 () {\\n    반환 값 2;\\n  }\\n  \\n  public void setValue1 (String value1) {\\n    this.value1 = value1;\\n  }\\n  \\n  public void setValue2 (String value2) {\\n    this.value2 = value2;\\n  }\\n}'},\n",
       " {'instruction': '일상적인 상황이 주어지면 그 주위에 간단한 이야기를 만드십시오.',\n",
       "  'input': '지하철을 타기',\n",
       "  'output': '전형적인 월요일 아침이었고 Jason은 늦게 달렸습니다.그는 지하철 역으로 달려 갔고 이미 기차가 열리고 문이 열린 것을 보게되어 기뻤습니다.그는이 시간에 대부분 비어 있었고, 그의 타기를 위해 정착했다.그는 주위를 둘러 보면서 창 밖을 보면서 자신의 세상에서 겉보기에 자신에게 노래를 부르는 젊은 여성을 알아 차렸다.그는 그녀의 이야기가 무엇인지, 그리고 그녀가 탈출하려고하는지 궁금했습니다.갑자기 문이 열리고 노래하는 여자가 떠났지만 그녀의 주위의 미스터리는 Jason의 마음에 남아있었습니다.'},\n",
       " {'instruction': '주어진 데이터 세트에 대한 분류 알고리즘을 만듭니다.',\n",
       "  'input': '의료 이미지의 데이터 세트',\n",
       "  'output': '의료 이미지를 분류하기 위해 CNN (Convolutional Neural Network)을 사용할 수 있습니다.CNN 모델을 사용하여 데이터 세트의 각 이미지에서 기능을 추출한 다음 이러한 기능을 사용하여 이미지를 적절한 클래스로 분류 할 수 있습니다.CNN은 다양한 층으로 훈련 될 수 있으며 이미지에서 다양한 유형의 기능과 패턴을 인식 할 수 있습니다.모델을 훈련 한 후에는 이전에 보이지 않았던 새로운 의료 이미지를 분류하는 데 사용될 수 있습니다.'},\n",
       " {'instruction': '텍스트를 악보로 변환하는 스크립트를 만듭니다.',\n",
       "  'input': '',\n",
       "  'output': \"텍스트 문자를 악보에 매핑하기위한 일련의 규칙을 정의하여 텍스트를 악보로 변환하는 스크립트를 만들 수 있습니다.우리는 텍스트 문자를 순차적으로 거쳐 각각의 특정 음표를 할당 할 수 있습니다.예를 들어, 문자 'A'는 주요 척도에서 'B'에서 작은 규모의 메모까지 메모에 매핑 될 수 있습니다.또한 Tempo, Time Signature, Instrumentation 및 Key Signature와 같은 악보를 사용자 정의하기위한 옵션을 포함 할 수 있습니다.\"},\n",
       " {'instruction': '적절한 단어를 삽입하여 다음 문장을 작성하십시오.',\n",
       "  'input': '태양은 ____이고 하늘은 ____였습니다.',\n",
       "  'output': '태양이 빛나고 하늘이 맑았습니다.'},\n",
       " {'instruction': '요리 전문가에게 이력서가 좋아하는 예를 생성하십시오.',\n",
       "  'input': '',\n",
       "  'output': '진 트레 마인\\n1234 Main Street, Anytown, CA 98765\\n(415) 555-1234 |j.tremaine@gmail.com\\n\\n경험이 풍부한 요리 전문가\\n\\n경험이 풍부한 요리사와 요리사는 위엄있는 요리를 만드는 열정으로 요리하며 거의 모든 요리 환경에서 뛰어난 결과를 낳습니다.클래식 레시피를 혁신하여 고객의 기대를 충족시키면서 독특한 맛의 요리를 생산하는 데 능숙합니다.\\n\\n• 점심과 저녁 식사 환경에서 풀 메뉴 요리를 만들고 실행 한 경험\\n• 건강 및 정부 표준에 대한 고급 이해로 식품 취급 및 안전 규정 인증\\n• 식품 준비 및 주방 관리의 모든 측면에서 심층적 인 지식과 경험\\n• 새로운 방법과 레시피를 신속하게 마스터 할 수있는 입증 된 능력\\n• 오븐, 믹서 및 프라이어와 같은 현대식 주방 기기 사용 전문가\\n• 경이로운 협업 및 의사 소통 기술\\n\\n전문적 경험\\n\\n요리사 드 요리 |XYZ 레스토랑 |샌프란시스코, CA |2015 년 5 월 - 현재\\n• 식당의 분위기 및 고객에 맞춰진 독창적이고 다양한 메뉴 항목\\n• 점심 및 저녁 트래픽을 늘리기위한 혁신적인 홍보 및 마케팅 전략을 구현했습니다.\\n• 식사 준비 및 위생을 포함한 모든 업무에서 전선 주방 직원\\n• 효율적이고 양질\\n• 훌륭한 요리 만 부엌 공간을 떠나도록 품질 관리를 유지합니다.\\n\\n조수 요리사 |ABC 레스토랑 |샌프란시스코, CA |2010 년 8 월 - 2015 년 4 월\\n• 매일 메뉴를 만드는 데 도움이되는 수석 요리사가 모든 요리가 식당의 우수성 표준을 충족하도록 보장\\n• 수석 요리사가 요청한대로 독창적 인 레시피를 개발하여 창의적인 풍미를 사용하여 식당의 시그니처 요리를 고안했습니다.\\n• 식사 서비스 중 주니어 주방 직원 관리 및 모니터링\\n• 주니어 셰프의 모범적 인 역할 모델로 활동하여 친절하고 전문적인지도를 제공합니다.'},\n",
       " {'instruction': '다음 문장을 완성하기 위해 아래에 주어진 항목을 정리하십시오.',\n",
       "  'input': '케이크, 나, 먹는',\n",
       "  'output': '나는 케이크를 먹는다.'},\n",
       " {'instruction': '유명한 사람에 대한 소개 단락을 작성하십시오.',\n",
       "  'input': '미셸 오바마',\n",
       "  'output': 'Michelle Obama는 미국의 영향력있는 영부인이되기 위해 도전을받는 영감을주는 여성입니다.그녀는 여성의 권리, 교육, 건강 및 체력을 강력하게 옹호합니다.프린스턴과 하버드 로스쿨을 졸업 한 Michelle은 엄청난 장애물을 극복하여 성공적인 법률 회사 임원, 병원 임원, 지역 사회 봉사 활동 리더 및 베스트셀러 저자가되었습니다.그녀는 일생 동안 모든 연령대의 사람들에게 힘을 실어주고 자신과 가족을위한 더 나은 세상을 창출하도록 영감을주는 데 시간과 에너지를 바쳤습니다.'},\n",
       " {'instruction': '경력 변화를 고려할 때 명심해야 할 다섯 가지 목록을 생성하십시오.',\n",
       "  'input': '',\n",
       "  'output': '1. 잠재적 기회를 연구하고 신중하게 옵션을 고려하십시오.\\n2. 새로운 경력이 진정으로 잘 맞는지 확인하십시오.\\n3. 경력 변화의 재정적, 정서적 영향을 이해하십시오.\\n4. 필요한 기술과 전문 지식을 개발하는 데 시간을 보내십시오.\\n5. 선택에 영향을 줄 수있는 개인 의무 또는 가족적 제약을 고려하십시오.'},\n",
       " {'instruction': '주어진 법적 문서를 분석하고 핵심 요점을 설명하십시오.',\n",
       "  'input': '다음은 \"회사 A\"및 \"Company B\"라고 표시된 두 당사자 간의 계약에서 발췌 한 것입니다.\\n\\n\"회사 A는 회사 B에 합리적인 지원을 제공하기로 동의합니다. 회사 B의 검토에 필요한 인사 및 기타 문서에 대한 합리적인 액세스를 허용하는 것이 포함됩니다. 회사 B는 문서를 유지하기로 동의합니다.회사 A가 자신감을 갖고 있으며 회사 A의 명시 적 허가없이 정보를 제 3 자에게 공개하지 않습니다. \"',\n",
       "  'output': '이 법적 문서는 회사 A가 재무 제표의 정확성을 보장하는 데 회사 B에 합리적인 지원을 제공하기로 합의했다고합니다.회사 A는 또한 회사 B가 회사 B의 검토에 필요한 직원 및 기타 문서에 액세스 할 수 있도록 동의했습니다.회사 B는 회사 A가 제공 한 데이터의 기밀성을 유지해야 할 책임을 받아들이고 명시 적 허가없이 제 3 자에게 공개하지 않습니다.따라서 두 회사는 재무 제표의 정확성과 관련하여 각각의 의무를 이행하기로 합의했습니다.\\n##\\n10. 교육 : 활성 음성을 사용하여 다음 문장을 다시 작성하십시오.\\n10. 입력 :\\n이 책은 학생이 읽었습니다.\\n10. 출력 :\\n학생은 책을 읽었습니다.'}]"
      ]
     },
     "execution_count": 32,
     "metadata": {},
     "output_type": "execute_result"
    }
   ],
   "source": [
    "alpaca_data_kr_[-10:]"
   ]
  },
  {
   "cell_type": "code",
   "execution_count": null,
   "metadata": {},
   "outputs": [],
   "source": []
  }
 ],
 "metadata": {
  "kernelspec": {
   "display_name": "Python 3",
   "language": "python",
   "name": "python3"
  },
  "language_info": {
   "codemirror_mode": {
    "name": "ipython",
    "version": 3
   },
   "file_extension": ".py",
   "mimetype": "text/x-python",
   "name": "python",
   "nbconvert_exporter": "python",
   "pygments_lexer": "ipython3",
   "version": "3.8.5"
  },
  "toc": {
   "base_numbering": 1,
   "nav_menu": {},
   "number_sections": true,
   "sideBar": true,
   "skip_h1_title": false,
   "title_cell": "Table of Contents",
   "title_sidebar": "Contents",
   "toc_cell": false,
   "toc_position": {},
   "toc_section_display": true,
   "toc_window_display": false
  }
 },
 "nbformat": 4,
 "nbformat_minor": 5
}
